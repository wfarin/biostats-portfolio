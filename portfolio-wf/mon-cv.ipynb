{
  "cells": [
    {
      "cell_type": "markdown",
      "metadata": {},
      "source": [
        "---\n",
        "title: \"Mon CV\"\n",
        "---\n",
        "\n",
        "# 📄 Mon CV\n",
        "\n",
        "<iframe src=\"william_farin.pdf\" width=\"100%\" height=\"800px\" style=\"border: none;\">\n",
        "\n",
        "</iframe>\n",
        "\n",
        "------------------------------------------------------------------------\n",
        "\n",
        "## 🔗 Télécharger\n",
        "\n",
        "👉 [Télécharger le CV en PDF](william_farin.pdf){target=\"_blank\"}"
      ]
    }
  ],
  "metadata": {
    "kernelspec": {
      "display_name": "Python 3",
      "language": "python",
      "name": "python3"
    }
  },
  "nbformat": 4,
  "nbformat_minor": 4
}